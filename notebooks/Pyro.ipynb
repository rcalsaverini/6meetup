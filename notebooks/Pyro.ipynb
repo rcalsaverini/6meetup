{
 "cells": [
  {
   "cell_type": "code",
   "execution_count": 1,
   "metadata": {},
   "outputs": [],
   "source": [
    "import numpy as np"
   ]
  },
  {
   "cell_type": "code",
   "execution_count": 2,
   "metadata": {},
   "outputs": [],
   "source": [
    "import torch\n",
    "import torch.nn as nn\n",
    "\n",
    "import pyro\n",
    "import pyro.distributions as dist\n",
    "import torch.distributions.constraints as constraints\n",
    "\n",
    "from pyro.optim import Adam\n",
    "from pyro.infer import SVI, Trace_ELBO"
   ]
  },
  {
   "cell_type": "code",
   "execution_count": 3,
   "metadata": {},
   "outputs": [],
   "source": [
    "from tqdm import tqdm"
   ]
  },
  {
   "cell_type": "code",
   "execution_count": 4,
   "metadata": {},
   "outputs": [],
   "source": [
    "import matplotlib.pyplot as plt\n",
    "plt.style.use('seaborn-darkgrid')\n",
    "%matplotlib inline"
   ]
  },
  {
   "cell_type": "markdown",
   "metadata": {},
   "source": [
    "# Simple Model"
   ]
  },
  {
   "cell_type": "code",
   "execution_count": 5,
   "metadata": {
    "scrolled": false
   },
   "outputs": [
    {
     "name": "stderr",
     "output_type": "stream",
     "text": [
      "100%|██████████| 100000/100000 [00:02<00:00, 38633.50it/s]\n"
     ]
    }
   ],
   "source": [
    "def sprinkler(rain):\n",
    "    p_sprinkler = 0.01 if rain.item() == 1.0 else 0.2\n",
    "    return dist.Bernoulli(p_sprinkler)\n",
    "\n",
    "\n",
    "def grass(rain, sprinkler):\n",
    "    if rain.item() == 0.0:\n",
    "        p_grass = 0.9 if sprinkler.item() == 1.0 else 0.01\n",
    "    else:\n",
    "        p_grass = 0.99 if sprinkler.item() == 1.0 else 0.95\n",
    "    return dist.Bernoulli(p_grass)\n",
    "\n",
    "def model():\n",
    "    r = pyro.sample('rain', dist.Bernoulli(0.1))\n",
    "    s = pyro.sample(\"sprinkler\", sprinkler(r))\n",
    "    g = pyro.sample(\"grass\", grass(r, s), obs=1)\n",
    "\n",
    "conditioned_grass = pyro.condition(model, data={})\n",
    "posterior = pyro.infer.Importance(conditioned_grass, num_samples=1000)\n",
    "marginal = pyro.infer.EmpiricalMarginal(posterior.run(), sites=\"rain\")\n",
    "\n",
    "trace = np.array([marginal() for _ in tqdm(range(100000))])"
   ]
  },
  {
   "cell_type": "code",
   "execution_count": 6,
   "metadata": {},
   "outputs": [
    {
     "data": {
      "image/png": "[encoded data removed]",
      "text/plain": [
       "<matplotlib.figure.Figure at 0x7fc400454630>"
      ]
     },
     "metadata": {},
     "output_type": "display_data"
    }
   ],
   "source": [
    "resamples = np.random.choice(trace, size=(1000, len(trace)), replace=True)\n",
    "_ = plt.hist(resamples.mean(axis=1), bins=np.linspace(0.3, 0.4, 21))"
   ]
  },
  {
   "cell_type": "code",
   "execution_count": 7,
   "metadata": {},
   "outputs": [
    {
     "data": {
      "text/plain": [
       "0.39301"
      ]
     },
     "execution_count": 7,
     "metadata": {},
     "output_type": "execute_result"
    }
   ],
   "source": [
    "trace.mean()"
   ]
  },
  {
   "cell_type": "markdown",
   "metadata": {},
   "source": [
    "# Parametric Bayesian Model"
   ]
  },
  {
   "cell_type": "code",
   "execution_count": 8,
   "metadata": {},
   "outputs": [
    {
     "data": {
      "text/plain": [
       "30"
      ]
     },
     "execution_count": 8,
     "metadata": {},
     "output_type": "execute_result"
    }
   ],
   "source": [
    "historical_rain_data = np.array([1, 0, 0, 0, 0, 1, 0, 0, 1, 0, 1, 0, 0, 0, 0, 1, 0, 0, 1, 0, 1, 0, 0, 0, 0, 1, 0, 0, 1, 0]).astype(float)\n",
    "historical_sprk_data = np.array([0, 1, 0, 1, 0, 0, 0, 1, 0, 1, 0, 1, 0, 1, 0, 0, 0, 1, 0, 1, 0, 1, 0, 1, 0, 0, 0, 1, 0, 1]).astype(float)\n",
    "historical_grss_data = np.array([1, 1, 0, 1, 0, 1, 0, 0, 1, 1, 1, 1, 0, 1, 0, 1, 0, 0, 1, 1, 1, 1, 0, 1, 0, 1, 0, 0, 1, 1]).astype(float)\n",
    "\n",
    "num_days = historical_grss_data.shape[0]\n",
    "num_days"
   ]
  },
  {
   "cell_type": "code",
   "execution_count": 9,
   "metadata": {},
   "outputs": [],
   "source": [
    "def rain(p):\n",
    "    return dist.Bernoulli(p)\n",
    "\n",
    "def sprinkler(rain, p_nr, p_r):\n",
    "    return dist.Bernoulli(p_r if rain.item() == 1.0 else p_nr)\n",
    "\n",
    "def grass(rain, sprinkler, p_ns_nr, p_s_nr, p_ns_r, p_s_r):\n",
    "    if rain.item() == 0.0:\n",
    "        prob = p_ns_nr if sprinkler.item() == 0.0 else p_s_nr\n",
    "    else:\n",
    "        prob = p_ns_r if sprinkler.item() == 0.0 else p_s_r\n",
    "    return dist.Bernoulli(prob)\n",
    "\n",
    "def model():\n",
    "    p = pyro.sample('p', dist.Beta(1.0, 1.0))\n",
    "    p_nr = pyro.sample('p_nr', dist.Beta(1.0, 1.0))\n",
    "    p_r = pyro.sample('p_r', dist.Beta(1.0, 1.0))\n",
    "    p_ns_nr = pyro.sample('p_ns_nr', dist.Beta(1.0, 1.0))\n",
    "    p_s_nr = pyro.sample('p_s_nr', dist.Beta(1.0, 1.0))\n",
    "    p_ns_r = pyro.sample('p_ns_r', dist.Beta(1.0, 1.0))\n",
    "    p_s_r = pyro.sample('p_s_r', dist.Beta(1.0, 1.0))\n",
    "    \n",
    "    for i in pyro.irange('day', num_days):\n",
    "        rain_i = pyro.sample('historic_rain_{}'.format(i), rain(p), obs=historical_rain_data[i])\n",
    "        sprk_i = pyro.sample('historic_sprk_{}'.format(i), sprinkler(rain_i, p_nr, p_r), obs=historical_sprk_data[i])\n",
    "        grss_i = pyro.sample('historic_grss_{}'.format(i), grass(rain_i, sprk_i, p_ns_nr, p_s_nr, p_ns_r, p_s_r), obs=historical_grss_data[i])\n",
    "\n",
    "    today_rain = pyro.sample('today_rain', rain(p))\n",
    "    today_sprinkler = pyro.sample('today_sprinkler', sprinkler(today_rain, p_nr, p_r))\n",
    "    today_grass = pyro.sample('today_grass', grass(today_rain, today_sprinkler, p_ns_nr, p_s_nr, p_ns_r, p_s_r), obs=1)"
   ]
  },
  {
   "cell_type": "code",
   "execution_count": 10,
   "metadata": {},
   "outputs": [
    {
     "name": "stderr",
     "output_type": "stream",
     "text": [
      "100%|██████████| 10000/10000 [00:00<00:00, 37096.23it/s]\n"
     ]
    }
   ],
   "source": [
    "conditioned_grass = pyro.condition(model, data={})\n",
    "posterior = pyro.infer.Importance(conditioned_grass, num_samples=1000)\n",
    "marginal = pyro.infer.EmpiricalMarginal(posterior.run(), sites=\"today_rain\")\n",
    "\n",
    "trace = np.array([marginal() for _ in tqdm(range(10000))])"
   ]
  },
  {
   "cell_type": "code",
   "execution_count": 11,
   "metadata": {},
   "outputs": [
    {
     "data": {
      "text/plain": [
       "0.0595"
      ]
     },
     "execution_count": 11,
     "metadata": {},
     "output_type": "execute_result"
    }
   ],
   "source": [
    "trace.mean()"
   ]
  },
  {
   "cell_type": "markdown",
   "metadata": {},
   "source": [
    "# Simple Gaussian Mixture"
   ]
  },
  {
   "cell_type": "code",
   "execution_count": 31,
   "metadata": {},
   "outputs": [],
   "source": [
    "def model(data):\n",
    "    mix = pyro.sample('mix', dist.Beta(1.0, 1.0))\n",
    "    mu_1 = pyro.sample('mu_1', dist.Normal(0, 10.0))\n",
    "    mu_2 = pyro.sample('mu_2', dist.Normal(0, 10.0))\n",
    "    s_1 = pyro.sample('s_1', dist.LogNormal(0, 1.0))\n",
    "    s_2 = pyro.sample('s_2', dist.LogNormal(0, 1.0))\n",
    "    for i in pyro.irange('item', data.shape[0]):\n",
    "        which = pyro.sample('which_{}'.format(i), dist.Bernoulli(mix))\n",
    "        if which.item() == 0:\n",
    "            pyro.sample(\"x_{}\".format(i), dist.Normal(mu_1, s_1), obs=data[i])\n",
    "        else:\n",
    "            pyro.sample(\"x_{}\".format(i), dist.Normal(mu_2, s_2), obs=data[i])"
   ]
  },
  {
   "cell_type": "code",
   "execution_count": 35,
   "metadata": {},
   "outputs": [
    {
     "data": {
      "image/png": "[encoded data removed]",
      "text/plain": [
       "<matplotlib.figure.Figure at 0x7fc34872eb00>"
      ]
     },
     "metadata": {},
     "output_type": "display_data"
    }
   ],
   "source": [
    "N = 1000\n",
    "X_1 = np.random.normal(0, 1, size=N)\n",
    "X_2 = np.random.normal(5.0, 0.7, size=N)\n",
    "which = np.random.randint(0, 2, size=N)\n",
    "X = (which * X_1 + (1 - which) * X_2)\n",
    "data = torch.tensor(X).type(torch.Tensor)\n",
    "\n",
    "_ = plt.hist(X, bins=np.linspace(-5, 10, 101))"
   ]
  },
  {
   "cell_type": "markdown",
   "metadata": {},
   "source": [
    "# Regressão Linear Bayesiana"
   ]
  },
  {
   "cell_type": "code",
   "execution_count": 36,
   "metadata": {},
   "outputs": [],
   "source": [
    "N = 20  # size of toy data\n",
    "\n",
    "def build_linear_dataset(N, p=1, noise_std=0.01):\n",
    "    X = np.random.rand(N, p)\n",
    "    w = 7 * np.ones(p)\n",
    "    y = np.matmul(X, w) + np.repeat(1, N) + np.random.normal(0, noise_std, size=N)\n",
    "    y = y.reshape(N, 1)\n",
    "    X, y = torch.tensor(X).type(torch.Tensor), torch.tensor(y).type(torch.Tensor)\n",
    "    data = torch.cat((X, y), 1)\n",
    "    assert data.shape == (N, p + 1)\n",
    "    return data\n",
    "\n",
    "data = build_linear_dataset(N, noise_std=0.75)"
   ]
  },
  {
   "cell_type": "code",
   "execution_count": 37,
   "metadata": {},
   "outputs": [],
   "source": [
    "class RegressionModel(nn.Module):\n",
    "    def __init__(self, p):\n",
    "        # p = number of features\n",
    "        super(RegressionModel, self).__init__()\n",
    "        self.linear = nn.Linear(p, 1)\n",
    "\n",
    "    def forward(self, x):\n",
    "        return self.linear(x)\n",
    "\n",
    "regression_model = RegressionModel(1)"
   ]
  },
  {
   "cell_type": "markdown",
   "metadata": {},
   "source": [
    "### Discriminative Learning"
   ]
  },
  {
   "cell_type": "code",
   "execution_count": 38,
   "metadata": {},
   "outputs": [
    {
     "name": "stdout",
     "output_type": "stream",
     "text": [
      "[iteration 0100] loss: 23.8923\n",
      "[iteration 0200] loss: 18.3072\n",
      "[iteration 0300] loss: 14.4481\n",
      "[iteration 0400] loss: 11.7109\n",
      "[iteration 0500] loss: 10.0334\n",
      "[iteration 0600] loss: 9.1253\n",
      "[iteration 0700] loss: 8.6866\n",
      "[iteration 0800] loss: 8.4965\n",
      "[iteration 0900] loss: 8.4225\n",
      "[iteration 1000] loss: 8.3966\n",
      "[iteration 1100] loss: 8.3885\n",
      "[iteration 1200] loss: 8.3862\n",
      "[iteration 1300] loss: 8.3856\n",
      "[iteration 1400] loss: 8.3855\n",
      "[iteration 1500] loss: 8.3855\n",
      "[iteration 1600] loss: 8.3855\n",
      "[iteration 1700] loss: 8.3855\n",
      "[iteration 1800] loss: 8.3855\n",
      "[iteration 1900] loss: 8.3855\n",
      "[iteration 2000] loss: 8.3855\n",
      "Learned parameters:\n",
      "linear.weight: 7.312\n",
      "linear.bias: 0.707\n"
     ]
    }
   ],
   "source": [
    "loss_fn = torch.nn.MSELoss(size_average=False)\n",
    "optim = torch.optim.Adam(regression_model.parameters(), lr=0.05)\n",
    "num_iterations = 2000\n",
    "\n",
    "x_data = data[:, :-1]\n",
    "y_data = data[:, -1]\n",
    "for j in range(num_iterations):\n",
    "    y_pred = regression_model(x_data).squeeze(-1)\n",
    "    loss = loss_fn(y_pred, y_data)\n",
    "    optim.zero_grad()\n",
    "    loss.backward()\n",
    "    optim.step()\n",
    "    if (j + 1) % 100 == 0:\n",
    "        print(\"[iteration %04d] loss: %.4f\" % (j + 1, loss.item()))\n",
    "\n",
    "print(\"Learned parameters:\")\n",
    "for name, param in regression_model.named_parameters():\n",
    "    print(\"%s: %.3f\" % (name, param.data.numpy()))"
   ]
  },
  {
   "cell_type": "code",
   "execution_count": 39,
   "metadata": {},
   "outputs": [],
   "source": [
    "def model(data):\n",
    "    loc, scale = torch.zeros(1, 1), 10 * torch.ones(1, 1)\n",
    "    bias_loc, bias_scale = torch.zeros(1), 10 * torch.ones(1)\n",
    "    \n",
    "    w_prior = dist.Normal(loc, scale).independent(1)\n",
    "    b_prior = dist.Normal(bias_loc, bias_scale).independent(1)\n",
    "    \n",
    "    priors = {'linear.weight': w_prior, 'linear.bias': b_prior}\n",
    "    \n",
    "    lifted_module = pyro.random_module(\"module\", regression_model, priors)\n",
    "    lifted_reg_model = lifted_module()\n",
    "    \n",
    "    with pyro.iarange(\"map\", N):\n",
    "        x_data = data[:, :-1]\n",
    "        y_data = data[:, -1]\n",
    "        prediction_mean = lifted_reg_model(x_data).squeeze(-1)\n",
    "        pyro.sample(\"obs\", dist.Normal(prediction_mean, 0.1 * torch.ones(data.size(0))), obs=y_data)\n",
    "\n",
    "        \n",
    "softplus = torch.nn.Softplus()\n",
    "\n",
    "def guide(data):\n",
    "\n",
    "    w_loc = torch.randn(1, 1)\n",
    "    w_log_sig = torch.tensor(1.0 * torch.ones(1, 1) + 0.05 * torch.randn(1, 1))\n",
    "    b_loc = torch.randn(1)\n",
    "    b_log_sig = torch.tensor(1.0 * torch.ones(1) + 0.05 * torch.randn(1))\n",
    "\n",
    "    mw_param = pyro.param(\"guide_mean_weight\", w_loc)\n",
    "    sw_param = softplus(pyro.param(\"guide_log_scale_weight\", w_log_sig))\n",
    "    mb_param = pyro.param(\"guide_mean_bias\", b_loc)\n",
    "    sb_param = softplus(pyro.param(\"guide_log_scale_bias\", b_log_sig))\n",
    "\n",
    "    w_dist = dist.Normal(mw_param, sw_param).independent(1)\n",
    "    b_dist = dist.Normal(mb_param, sb_param).independent(1)\n",
    "    dists = {'linear.weight': w_dist, 'linear.bias': b_dist}\n",
    "    lifted_module = pyro.random_module(\"module\", regression_model, dists)\n",
    "    return lifted_module()\n"
   ]
  },
  {
   "cell_type": "code",
   "execution_count": 40,
   "metadata": {},
   "outputs": [
    {
     "name": "stdout",
     "output_type": "stream",
     "text": [
      "[iteration 0001] loss: 1807.1381\n",
      "[iteration 0101] loss: 66.4315\n",
      "[iteration 0201] loss: 38.5789\n",
      "[iteration 0301] loss: 44.9353\n",
      "[iteration 0401] loss: 33.6442\n",
      "[iteration 0501] loss: 26.1453\n",
      "[iteration 0601] loss: 29.0920\n",
      "[iteration 0701] loss: 21.2781\n",
      "[iteration 0801] loss: 20.4876\n",
      "[iteration 0901] loss: 21.6403\n",
      "[iteration 1001] loss: 21.0754\n",
      "[iteration 1101] loss: 20.9436\n",
      "[iteration 1201] loss: 20.5736\n",
      "[iteration 1301] loss: 20.7158\n",
      "[iteration 1401] loss: 20.3360\n",
      "[iteration 1501] loss: 20.4803\n",
      "[iteration 1601] loss: 20.0776\n",
      "[iteration 1701] loss: 20.4185\n",
      "[iteration 1801] loss: 21.0758\n",
      "[iteration 1901] loss: 20.3260\n"
     ]
    }
   ],
   "source": [
    "optim = Adam({\"lr\": 0.05})\n",
    "svi = SVI(model, guide, optim, loss=Trace_ELBO())\n",
    "\n",
    "pyro.clear_param_store()\n",
    "for j in range(num_iterations):\n",
    "    # calculate the loss and take a gradient step\n",
    "    loss = svi.step(data)\n",
    "    if j % 100 == 0:\n",
    "        print(\"[iteration %04d] loss: %.4f\" % (j + 1, loss / float(N)))\n"
   ]
  },
  {
   "cell_type": "code",
   "execution_count": 41,
   "metadata": {},
   "outputs": [
    {
     "name": "stdout",
     "output_type": "stream",
     "text": [
      "[guide_mean_weight]: 7.313\n",
      "[guide_log_scale_weight]: -2.322\n",
      "[guide_mean_bias]: 0.704\n",
      "[guide_log_scale_bias]: -2.792\n"
     ]
    }
   ],
   "source": [
    "for name in pyro.get_param_store().get_all_param_names():\n",
    "    print(\"[%s]: %.3f\" % (name, pyro.param(name).data.numpy()))"
   ]
  },
  {
   "cell_type": "code",
   "execution_count": null,
   "metadata": {},
   "outputs": [],
   "source": []
  },
  {
   "cell_type": "code",
   "execution_count": null,
   "metadata": {},
   "outputs": [],
   "source": []
  }
 ],
 "metadata": {
  "kernelspec": {
   "display_name": "Python 3",
   "language": "python",
   "name": "python3"
  },
  "language_info": {
   "codemirror_mode": {
    "name": "ipython",
    "version": 3
   },
   "file_extension": ".py",
   "mimetype": "text/x-python",
   "name": "python",
   "nbconvert_exporter": "python",
   "pygments_lexer": "ipython3",
   "version": "3.6.4"
  }
 },
 "nbformat": 4,
 "nbformat_minor": 2
}
